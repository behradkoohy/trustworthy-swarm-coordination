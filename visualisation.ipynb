{
 "cells": [
  {
   "cell_type": "code",
   "execution_count": null,
   "id": "b126eb86-5ad3-4b29-9cad-b23c10429718",
   "metadata": {},
   "outputs": [],
   "source": [
    "import numpy as np\n",
    "from WorldEnvOHEOracle import WorldEnv\n",
    "import matplotlib.pyplot as plt\n",
    "import oracle\n",
    "from DiscretePySwarms import IntOptimizerPSO\n",
    "from datetime import datetime\n",
    "from torch.utils.tensorboard import SummaryWriter\n",
    "\n",
    "def objective_function(solution):\n",
    "    env = WorldEnv(n_drones=3,seed=r_seed, max_timesteps=2000)\n",
    "    observations, infos = env.reset()\n",
    "    score = [-oracle.get_fitness(env,sol) for sol in solution]\n",
    "    return score\n",
    "\n",
    "max_bound = [3 for _ in range((2000 + 1) * 3)]\n",
    "min_bound = [0 for _ in range((2000 + 1) * 3)]\n",
    "bounds = (min_bound, max_bound)\n",
    "options = {\"c1\": 0.5, \"c2\": 0.3, \"w\": 0.9}\n",
    "\n",
    "optimizer = IntOptimizerPSO(n_particles=10, dimensions=(2000*3)+3, options=options, bounds=bounds)\n",
    "r_seed=0\n",
    "cost, pos = optimizer.optimize(objective_function, iters=1000)\n",
    "actions = oracle.convert_to_dicts(pos)"
   ]
  },
  {
   "cell_type": "code",
   "execution_count": 19,
   "id": "ecf70af1-0cd1-4324-bb9e-84c0f57b7c80",
   "metadata": {},
   "outputs": [
    {
     "data": {
      "image/png": "[encoded data removed]",
      "text/plain": [
       "<Figure size 640x480 with 2 Axes>"
      ]
     },
     "metadata": {},
     "output_type": "display_data"
    }
   ],
   "source": [
    "def get_visualisation(all_actions):\n",
    "    env = WorldEnv(n_drones=3,seed=r_seed, max_timesteps=2000)\n",
    "    observations, infos = env.reset()\n",
    "    # Create an empty grid\n",
    "    fig, ax = plt.subplots()\n",
    "    grid = np.zeros(env.all_grids[0].shape)\n",
    "    text_keys = {0:'H',1:'S',2:'T',3:'D',4:'D',5:'D'}\n",
    "    texts = {'H':[],'S':[],'T':[],'D':[]}\n",
    "    action_d_conv = {0:[0,1],1:[1,0],2:[0,-1],3:[-1,0]}\n",
    "\n",
    "    for i,env_grid in enumerate(env.all_grids):\n",
    "        coords = np.argwhere(env_grid==1)\n",
    "        for coord in coords:\n",
    "            texts[text_keys[i]].append(coord)\n",
    "            grid[coord[0],coord[1]] = 1\n",
    "            if i == 3:\n",
    "                current_coords = np.array(coord)\n",
    "                for actions in all_actions:\n",
    "                    action = action_d_conv[actions['drone_0']]\n",
    "                    plt.arrow(current_coords[1], current_coords[0], action[0], action[1], head_width=0.3, head_length=0.1, fc='blue', ec='blue')\n",
    "                    current_coords[0] = min(9,max(0,current_coords[0] + action[1]))\n",
    "                    current_coords[1] = min(9,max(0,current_coords[1] + action[0]))\n",
    "            elif i == 4:\n",
    "                current_coords = np.array(coord)\n",
    "                for actions in all_actions:\n",
    "                    action = action_d_conv[actions['drone_1']]\n",
    "                    plt.arrow(current_coords[1], current_coords[0], action[0], action[1], head_width=0.3, head_length=0.1, fc='red', ec='red')\n",
    "                    current_coords[0] = min(9,max(0,current_coords[0] + action[1]))\n",
    "                    current_coords[1] = min(9,max(0,current_coords[1] + action[0]))\n",
    "            elif i == 5:\n",
    "                current_coords = np.array(coord)\n",
    "                for actions in all_actions:\n",
    "                    action = action_d_conv[actions['drone_2']]\n",
    "                    plt.arrow(current_coords[1], current_coords[0], action[0], action[1], head_width=0.3, head_length=0.1, fc='green', ec='green')\n",
    "                    current_coords[0] = min(9,max(0,current_coords[0] + action[1]))\n",
    "                    current_coords[1] = min(9,max(0,current_coords[1] + action[0]))\n",
    "\n",
    "    # Add text annotations\n",
    "    for key,value in texts.items():\n",
    "        for v in value:\n",
    "            ax.text(v[1], v[0], key, ha='center', va='center', color='white')\n",
    "\n",
    "    # Plot the grid\n",
    "    plt.imshow(grid, cmap='Reds')\n",
    "    #plt.gca().invert_yaxis()\n",
    "    plt.colorbar()\n",
    "    plt.show()\n",
    "    \n",
    "get_visualisation(actions[:10])"
   ]
  },
  {
   "cell_type": "code",
   "execution_count": 20,
   "id": "8eb0f657-da14-45b2-92cb-48061b71e9e7",
   "metadata": {},
   "outputs": [
    {
     "data": {
      "text/plain": [
       "[{'drone_0': 2.0, 'drone_1': 2.0, 'drone_2': 1.0},\n",
       " {'drone_0': 1.0, 'drone_1': 1.0, 'drone_2': 2.0},\n",
       " {'drone_0': 1.0, 'drone_1': 1.0, 'drone_2': 0.0},\n",
       " {'drone_0': 1.0, 'drone_1': 2.0, 'drone_2': 2.0},\n",
       " {'drone_0': 1.0, 'drone_1': 0.0, 'drone_2': 2.0},\n",
       " {'drone_0': 1.0, 'drone_1': 0.0, 'drone_2': 2.0},\n",
       " {'drone_0': 2.0, 'drone_1': 1.0, 'drone_2': 1.0},\n",
       " {'drone_0': 1.0, 'drone_1': 0.0, 'drone_2': 1.0},\n",
       " {'drone_0': 0.0, 'drone_1': 1.0, 'drone_2': 0.0},\n",
       " {'drone_0': 0.0, 'drone_1': 0.0, 'drone_2': 1.0}]"
      ]
     },
     "execution_count": 20,
     "metadata": {},
     "output_type": "execute_result"
    }
   ],
   "source": [
    "actions[:10]"
   ]
  },
  {
   "cell_type": "code",
   "execution_count": null,
   "id": "2dc96c01-5627-403c-a616-507863cd905b",
   "metadata": {},
   "outputs": [],
   "source": []
  }
 ],
 "metadata": {
  "kernelspec": {
   "display_name": "Python 3 (ipykernel)",
   "language": "python",
   "name": "python3"
  },
  "language_info": {
   "codemirror_mode": {
    "name": "ipython",
    "version": 3
   },
   "file_extension": ".py",
   "mimetype": "text/x-python",
   "name": "python",
   "nbconvert_exporter": "python",
   "pygments_lexer": "ipython3",
   "version": "3.8.15"
  }
 },
 "nbformat": 4,
 "nbformat_minor": 5
}
